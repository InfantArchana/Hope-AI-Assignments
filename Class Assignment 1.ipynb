{
 "cells": [
  {
   "cell_type": "code",
   "execution_count": null,
   "id": "83b81536-fea4-4916-b2a0-e29324b3fa77",
   "metadata": {},
   "outputs": [],
   "source": [
    "# Create a class and function and list out the items in the list"
   ]
  },
  {
   "cell_type": "code",
   "execution_count": 13,
   "id": "43f16209-a309-4129-9086-83472bb77bfd",
   "metadata": {},
   "outputs": [],
   "source": [
    "class SubfieldsInAI():\n",
    "    def Subfields():\n",
    "        print(\"Sub-fields in AI are:\")\n",
    "        lists=[\"Machine Learning\",\"Neural Networks\",\"Vision\", \"Robotics\",\"Speech Processing\",\"Natural Language Processing\"]\n",
    "        for temp in lists:\n",
    "            print(temp)"
   ]
  },
  {
   "cell_type": "code",
   "execution_count": 16,
   "id": "1332fb76-f213-4d4a-9f5a-c77d1e1ef80e",
   "metadata": {},
   "outputs": [
    {
     "name": "stdout",
     "output_type": "stream",
     "text": [
      "Sub-fields in AI are:\n",
      "Machine Learning\n",
      "Neural Networks\n",
      "Vision\n",
      "Robotics\n",
      "Speech Processing\n",
      "Natural Language Processing\n"
     ]
    }
   ],
   "source": [
    "SubfieldsInAI.Subfields()"
   ]
  },
  {
   "cell_type": "code",
   "execution_count": 15,
   "id": "6330389e-cbe7-4a2c-ad10-ab5b72ffd864",
   "metadata": {},
   "outputs": [],
   "source": [
    "# Create a class and function that checks whether the given number is Odd or Even"
   ]
  },
  {
   "cell_type": "code",
   "execution_count": 9,
   "id": "4afa075a-6a6e-4541-8991-5d63291dd6bb",
   "metadata": {},
   "outputs": [],
   "source": [
    "class ODDEVEN():\n",
    "    def OddEven():\n",
    "        num=int(input(\"Enter a number:\"))\n",
    "        if(num%2==1):\n",
    "            print(num,\"is Odd number\")\n",
    "            message=num,\"is Odd number\"\n",
    "        else:\n",
    "            print(num,\"is Even number\")\n",
    "            message=num,\"is Even number\"\n",
    "        return message"
   ]
  },
  {
   "cell_type": "code",
   "execution_count": 10,
   "id": "299cc118-fad5-4671-9cac-424b5bb11245",
   "metadata": {},
   "outputs": [
    {
     "name": "stdin",
     "output_type": "stream",
     "text": [
      "Enter a number: 52452\n"
     ]
    },
    {
     "name": "stdout",
     "output_type": "stream",
     "text": [
      "52452 is Even number\n"
     ]
    },
    {
     "data": {
      "text/plain": [
       "(52452, 'is Even number')"
      ]
     },
     "execution_count": 10,
     "metadata": {},
     "output_type": "execute_result"
    }
   ],
   "source": [
    "ODDEVEN.OddEven()"
   ]
  },
  {
   "cell_type": "code",
   "execution_count": null,
   "id": "88a3e4db-c4b0-4c0b-92ab-14fb0957e744",
   "metadata": {},
   "outputs": [],
   "source": [
    "# Create a class and function - elegibility of marriage for male(21) and female(18)"
   ]
  },
  {
   "cell_type": "code",
   "execution_count": 11,
   "id": "312e598d-2099-4211-89f7-b91f1baa318e",
   "metadata": {},
   "outputs": [],
   "source": [
    "class ElegiblityForMarriage():\n",
    "    def eligible():\n",
    "        gender=input(\"Your Gender:\")\n",
    "        age=int(input(\"Your Age:\"))\n",
    "        if(gender==\"Male\"):\n",
    "            if(age<21):\n",
    "                print(\"NOT ELIGIBLE\")\n",
    "                check=\"NOT ELIGIBLE\"\n",
    "        elif(gender==\"Female\"):\n",
    "            if(age<18):\n",
    "                print(\"NOT ELIGIBLE\")\n",
    "                check=\"NOT ELIGIBLE\"\n",
    "        return check"
   ]
  },
  {
   "cell_type": "code",
   "execution_count": 12,
   "id": "c41b8b92-6acd-49ee-8ee2-046c727881b5",
   "metadata": {},
   "outputs": [
    {
     "name": "stdin",
     "output_type": "stream",
     "text": [
      "Your Gender: Male\n",
      "Your Age: 20\n"
     ]
    },
    {
     "name": "stdout",
     "output_type": "stream",
     "text": [
      "NOT ELIGIBLE\n"
     ]
    },
    {
     "data": {
      "text/plain": [
       "'NOT ELIGIBLE'"
      ]
     },
     "execution_count": 12,
     "metadata": {},
     "output_type": "execute_result"
    }
   ],
   "source": [
    "ElegiblityForMarriage.eligible()"
   ]
  },
  {
   "cell_type": "code",
   "execution_count": 15,
   "id": "f6179e71-ebdf-42dd-a50b-edd6ff907f67",
   "metadata": {},
   "outputs": [
    {
     "name": "stdin",
     "output_type": "stream",
     "text": [
      "Your Gender: Female\n",
      "Your Age: 17\n"
     ]
    },
    {
     "name": "stdout",
     "output_type": "stream",
     "text": [
      "NOT ELIGIBLE\n"
     ]
    },
    {
     "data": {
      "text/plain": [
       "'NOT ELIGIBLE'"
      ]
     },
     "execution_count": 15,
     "metadata": {},
     "output_type": "execute_result"
    }
   ],
   "source": [
    "ElegiblityForMarriage.eligible()"
   ]
  },
  {
   "cell_type": "code",
   "execution_count": null,
   "id": "680c14b4-698c-4bcb-be73-80e0786044e6",
   "metadata": {},
   "outputs": [],
   "source": [
    "# Calculate the percentage of your 10th mark (class and function)"
   ]
  },
  {
   "cell_type": "code",
   "execution_count": 18,
   "id": "1dd9fdf8-f360-4bba-92a2-11dc3d4dc32e",
   "metadata": {},
   "outputs": [],
   "source": [
    "class FindPercent():\n",
    "    def percentage():\n",
    "        S1=int(input(\"Subject1=\"))\n",
    "        S2=int(input(\"Subject2=\"))\n",
    "        S3=int(input(\"Subject3=\"))\n",
    "        S4=int(input(\"Subject4=\"))\n",
    "        S5=int(input(\"Subject5=\"))\n",
    "        total=S1+S2+S3+S4+S5\n",
    "        print(\"Total=\",total)\n",
    "        Percent=(total/500)*100  \n",
    "        print(\"Percentage=\",Percent)"
   ]
  },
  {
   "cell_type": "code",
   "execution_count": 19,
   "id": "58c3046b-ee48-4dab-a0c7-780e492f89a2",
   "metadata": {},
   "outputs": [
    {
     "name": "stdin",
     "output_type": "stream",
     "text": [
      "Subject1= 98\n",
      "Subject2= 87\n",
      "Subject3= 95\n",
      "Subject4= 95\n",
      "Subject5= 93\n"
     ]
    },
    {
     "name": "stdout",
     "output_type": "stream",
     "text": [
      "Total= 468\n",
      "Percentage= 93.60000000000001\n"
     ]
    }
   ],
   "source": [
    "FindPercent.percentage()"
   ]
  },
  {
   "cell_type": "code",
   "execution_count": null,
   "id": "c92705c5-8836-4c1e-b54b-bf81d74f82d6",
   "metadata": {},
   "outputs": [],
   "source": [
    "# Print area and perimeter of triangle using functions"
   ]
  },
  {
   "cell_type": "code",
   "execution_count": 20,
   "id": "dc1aba75-5d21-425f-9b92-84b17f79e885",
   "metadata": {},
   "outputs": [],
   "source": [
    "class triangle():\n",
    "    def triangle():\n",
    "        height=int(input(\"Height:\"))\n",
    "        base=int(input(\"Base:\"))\n",
    "        print(\"Area formula: (Height*Breadth)/2\")\n",
    "        area=(height*base)/2\n",
    "        print(\"Area of Triangle:\",area)\n",
    "        height1=int(input(\"Height1:\"))\n",
    "        height2=int(input(\"Height2:\"))\n",
    "        base=int(input(\"Base:\"))\n",
    "        print(\"Perimeter formula: Height1+Height2+Base\")\n",
    "        perimeter=height1+height2+base\n",
    "        print(\"Perimeter of Triangle:\",perimeter)\n",
    "        return "
   ]
  },
  {
   "cell_type": "code",
   "execution_count": 21,
   "id": "56cfba5a-40fa-4cb5-90ce-23057463035d",
   "metadata": {},
   "outputs": [
    {
     "name": "stdin",
     "output_type": "stream",
     "text": [
      "Height: 32\n",
      "Base: 34\n"
     ]
    },
    {
     "name": "stdout",
     "output_type": "stream",
     "text": [
      "Area formula: (Height*Breadth)/2\n",
      "Area of Triangle: 544.0\n"
     ]
    },
    {
     "name": "stdin",
     "output_type": "stream",
     "text": [
      "Height1: 2\n",
      "Height2: 4\n",
      "Base: 4\n"
     ]
    },
    {
     "name": "stdout",
     "output_type": "stream",
     "text": [
      "Perimeter formula: Height1+Height2+Base\n",
      "Perimeter of Triangle: 10\n"
     ]
    }
   ],
   "source": [
    "triangle.triangle()"
   ]
  },
  {
   "cell_type": "code",
   "execution_count": null,
   "id": "0e01c691-a171-40ff-bd62-b75522270d7c",
   "metadata": {},
   "outputs": [],
   "source": []
  }
 ],
 "metadata": {
  "kernelspec": {
   "display_name": "Python [conda env:base] *",
   "language": "python",
   "name": "conda-base-py"
  },
  "language_info": {
   "codemirror_mode": {
    "name": "ipython",
    "version": 3
   },
   "file_extension": ".py",
   "mimetype": "text/x-python",
   "name": "python",
   "nbconvert_exporter": "python",
   "pygments_lexer": "ipython3",
   "version": "3.13.5"
  }
 },
 "nbformat": 4,
 "nbformat_minor": 5
}

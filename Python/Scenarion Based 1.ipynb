{
 "cells": [
  {
   "cell_type": "code",
   "execution_count": null,
   "id": "e0173eea-1149-4bc7-ae13-d5265d96c2e1",
   "metadata": {},
   "outputs": [],
   "source": [
    "# 1. Scenario: A system checks if a user is eligible to vote based on their age.\n",
    "#Write logic to ask the user for their age and determine if they are eligible to vote based on whether they are 18 or older."
   ]
  },
  {
   "cell_type": "code",
   "execution_count": 1,
   "id": "c70369df-70a3-4275-8a54-4d76f096ed8c",
   "metadata": {},
   "outputs": [
    {
     "name": "stdin",
     "output_type": "stream",
     "text": [
      "Enter your Age: 20\n"
     ]
    }
   ],
   "source": [
    "age=int(input(\"Enter your Age:\"))"
   ]
  },
  {
   "cell_type": "code",
   "execution_count": 2,
   "id": "45cf2d55-ad41-4257-b551-08e964668d5c",
   "metadata": {},
   "outputs": [
    {
     "name": "stdout",
     "output_type": "stream",
     "text": [
      "You are eligible to vote.\n"
     ]
    }
   ],
   "source": [
    "if(age<0):\n",
    "  print(\"Age cannot be negative. Please enter a valid age.\")\n",
    "elif(age>=18):\n",
    "  print(\"You are eligible to vote.\")\n",
    "else:\n",
    "  print(\"You are not eligible to vote yet.\")\n"
   ]
  },
  {
   "cell_type": "code",
   "execution_count": null,
   "id": "79228836-76bb-4d8f-ab7d-d4b8aedce203",
   "metadata": {},
   "outputs": [],
   "source": [
    "# 2. A program processes a list of numbers and needs to find the largest value.\n",
    "#Write logic to identify and return the largest number from a given list."
   ]
  },
  {
   "cell_type": "code",
   "execution_count": 3,
   "id": "a39e3c91-d408-483f-ac82-d805f5f0b6c1",
   "metadata": {},
   "outputs": [],
   "source": [
    "def LargestNumber(numbers):\n",
    "    largest=numbers[0]\n",
    "    for num in numbers:\n",
    "        if (num>largest):\n",
    "            largest=num\n",
    "            return largest"
   ]
  },
  {
   "cell_type": "code",
   "execution_count": 4,
   "id": "7f92149d-43e6-4ae4-badd-0c605ca71272",
   "metadata": {},
   "outputs": [
    {
     "name": "stdout",
     "output_type": "stream",
     "text": [
      "The largest number is: 45\n"
     ]
    }
   ],
   "source": [
    "numbers=[23,12,45,89,67]\n",
    "result=LargestNumber(numbers)\n",
    "print(\"The largest number is:\", result)"
   ]
  },
  {
   "cell_type": "code",
   "execution_count": null,
   "id": "871e5a72-e7bf-4978-a9f7-c643b9fc7e4f",
   "metadata": {},
   "outputs": [],
   "source": [
    "# 3. A company provides employees with a 10% bonus if their salary exceeds $50,000.\n",
    "# Write logic to determine the bonus amount based on the given salary."
   ]
  },
  {
   "cell_type": "code",
   "execution_count": 5,
   "id": "149e035f-bca7-4bcf-8b1f-3b383c09ec29",
   "metadata": {},
   "outputs": [],
   "source": [
    "def CalculateBonus():\n",
    "    bonus=0\n",
    "    if(Salary>50,000):\n",
    "        bonus=Salary*0.10\n",
    "        print(\"Your bonus is:\",bonus)\n",
    "        return bonus"
   ]
  },
  {
   "cell_type": "code",
   "execution_count": 6,
   "id": "907d1b23-e15c-429b-a67a-fa15053560e4",
   "metadata": {},
   "outputs": [
    {
     "name": "stdin",
     "output_type": "stream",
     "text": [
      "Enter your monthly salary: 70000\n"
     ]
    },
    {
     "name": "stdout",
     "output_type": "stream",
     "text": [
      "Your bonus is: 7000.0\n"
     ]
    }
   ],
   "source": [
    "Salary=float(input(\"Enter your monthly salary:\"))\n",
    "Bonus=CalculateBonus()"
   ]
  },
  {
   "cell_type": "code",
   "execution_count": 7,
   "id": "b115f99c-ec0e-471c-8d88-f45982be19eb",
   "metadata": {},
   "outputs": [
    {
     "name": "stdin",
     "output_type": "stream",
     "text": [
      "Enter your monthly salary: 50000\n"
     ]
    },
    {
     "name": "stdout",
     "output_type": "stream",
     "text": [
      "Your bonus is: 5000.0\n"
     ]
    }
   ],
   "source": [
    "Salary=float(input(\"Enter your monthly salary:\"))\n",
    "Bonus=CalculateBonus()"
   ]
  },
  {
   "cell_type": "code",
   "execution_count": null,
   "id": "66b677a6-e993-4827-b51d-4ef789f4a6f2",
   "metadata": {},
   "outputs": [],
   "source": [
    "# 4. A program evaluates a number to determine if it is even or odd.\n",
    "#Write logic to check whether a given number is even or odd."
   ]
  },
  {
   "cell_type": "code",
   "execution_count": 10,
   "id": "9de0dc12-08b5-446b-a820-ae0abc9be0fc",
   "metadata": {},
   "outputs": [],
   "source": [
    "def Oddeven():\n",
    "    num=int(input(\"Enter a number:\"))\n",
    "    if (num%2==1):\n",
    "        print(\"The given number is Odd\")\n",
    "    else:\n",
    "        print(\"The given number is Even\")"
   ]
  },
  {
   "cell_type": "code",
   "execution_count": 11,
   "id": "68e5abdf-3c1d-4e9d-870c-842d90dd65f8",
   "metadata": {},
   "outputs": [
    {
     "name": "stdin",
     "output_type": "stream",
     "text": [
      "Enter a number: 70\n"
     ]
    },
    {
     "name": "stdout",
     "output_type": "stream",
     "text": [
      "The given number is Even\n"
     ]
    }
   ],
   "source": [
    "Oddeven()"
   ]
  },
  {
   "cell_type": "code",
   "execution_count": null,
   "id": "362f8950-36d4-411c-867c-9501c114576f",
   "metadata": {},
   "outputs": [],
   "source": [
    "# 5. A text-processing tool reverses a given word or sentence for formatting purposes.\n",
    "#Write logic to take a word or sentence as input and produce its reversed version."
   ]
  },
  {
   "cell_type": "code",
   "execution_count": 12,
   "id": "40dca33c-623a-4ab2-aee5-fed37dd02727",
   "metadata": {},
   "outputs": [
    {
     "name": "stdout",
     "output_type": "stream",
     "text": [
      "IAepoH\n"
     ]
    }
   ],
   "source": [
    "def ReversedWord(word):\n",
    "    return word\n",
    "word=\"HopeAI\"\n",
    "ReversedWord=word[::-1]\n",
    "print(ReversedWord)"
   ]
  },
  {
   "cell_type": "code",
   "execution_count": null,
   "id": "c45dbadd-f19e-4053-83ef-d48bdc229d25",
   "metadata": {},
   "outputs": [],
   "source": [
    "# 6. A grading system determines whether a student has passed or failed based on their score.\n",
    "#Write logic to check if a student has passed a subject by scoring at least 40 marks."
   ]
  },
  {
   "cell_type": "code",
   "execution_count": 13,
   "id": "28e8cfa1-4562-481f-a322-3101c191143a",
   "metadata": {},
   "outputs": [
    {
     "name": "stdin",
     "output_type": "stream",
     "text": [
      "Enter your score: 50\n"
     ]
    },
    {
     "name": "stdout",
     "output_type": "stream",
     "text": [
      "For the given score, you are passed\n"
     ]
    }
   ],
   "source": [
    "Mark=float(input(\"Enter your score:\"))\n",
    "if(Mark>=40):\n",
    "    print(\"For the given score, you are passed\")\n",
    "else:\n",
    "    print(\"For the given score, you are failed\") "
   ]
  },
  {
   "cell_type": "code",
   "execution_count": null,
   "id": "4708f5cb-c169-4dba-aa0d-94ab8e10e904",
   "metadata": {},
   "outputs": [],
   "source": [
    "# 7. A retail store offers a 20% discount if a customer’s total order exceeds $100. \n",
    "#Write logic to calculate the final amount to be paid after applying the discount."
   ]
  },
  {
   "cell_type": "code",
   "execution_count": 15,
   "id": "a272f0a1-9d6a-4b05-98df-9d86a73880c4",
   "metadata": {},
   "outputs": [
    {
     "name": "stdin",
     "output_type": "stream",
     "text": [
      "Enter the total order amount: 150\n"
     ]
    },
    {
     "name": "stdout",
     "output_type": "stream",
     "text": [
      "The final amount to be paid after applying the discount is 120.0\n"
     ]
    }
   ],
   "source": [
    "Total=float(input(\"Enter the total order amount:\"))\n",
    "if(Total>100):\n",
    "    Discount=0.20*Total\n",
    "    FinalAmount=Total-Discount\n",
    "    print(\"The final amount to be paid after applying the discount is\", FinalAmount)\n",
    "else:\n",
    "   FinalAmount=Total"
   ]
  },
  {
   "cell_type": "code",
   "execution_count": null,
   "id": "1b6b444c-5540-447f-8638-1f269eae7391",
   "metadata": {},
   "outputs": [],
   "source": [
    "# 8. A banking system processes withdrawal requests and ensures the user has enough balance.\n",
    "# Write logic to check if a user has enough balance before allowing a withdrawal and update the remaining balance accordingly."
   ]
  },
  {
   "cell_type": "code",
   "execution_count": 26,
   "id": "b7188269-0c08-4f48-b4fc-0ed16648cf22",
   "metadata": {},
   "outputs": [],
   "source": [
    "def WithdrawlProcess(current_balance, withdraw_amount):\n",
    "    if (withdraw_amount<=current_balance):\n",
    "        new_balance=current_balance-withdraw_amount\n",
    "        print(\"You have successfully withdrawn\", withdraw_amount)\n",
    "        print(\"Your current balance is\", new_balance)\n",
    "        return new_balance\n",
    "    else:\n",
    "        print(\"You do not have enough balance\")\n",
    "    return current_balance"
   ]
  },
  {
   "cell_type": "code",
   "execution_count": 27,
   "id": "d961c65c-017f-4bec-917b-23b8b385b4ce",
   "metadata": {},
   "outputs": [
    {
     "name": "stdin",
     "output_type": "stream",
     "text": [
      "Enter your current balance: 4500\n",
      "Enter an amount to withdraw: 500\n"
     ]
    }
   ],
   "source": [
    "current_balance=float(input(\"Enter your current balance:\"))\n",
    "withdraw_amount=float(input(\"Enter an amount to withdraw:\"))"
   ]
  },
  {
   "cell_type": "code",
   "execution_count": 28,
   "id": "d75ab9f5-3f6b-4eab-81ff-f49845939982",
   "metadata": {},
   "outputs": [
    {
     "name": "stdout",
     "output_type": "stream",
     "text": [
      "You have successfully withdrawn 500.0\n",
      "Your current balance is 4000.0\n"
     ]
    },
    {
     "data": {
      "text/plain": [
       "4000.0"
      ]
     },
     "execution_count": 28,
     "metadata": {},
     "output_type": "execute_result"
    }
   ],
   "source": [
    "WithdrawlProcess(current_balance, withdraw_amount)"
   ]
  },
  {
   "cell_type": "code",
   "execution_count": null,
   "id": "6e625643-5022-41bb-a182-ecffe6d61dd3",
   "metadata": {},
   "outputs": [],
   "source": [
    "# 9. A calendar system verifies whether a given year is a leap year based on standard leap year rules.\n",
    "# Write logic to determine whether a given year is a leap year."
   ]
  },
  {
   "cell_type": "code",
   "execution_count": 40,
   "id": "22a118a4-d775-42db-a26e-5fc61601c68c",
   "metadata": {},
   "outputs": [
    {
     "name": "stdin",
     "output_type": "stream",
     "text": [
      "Enter a year to check: 2023\n"
     ]
    }
   ],
   "source": [
    "Year=int(input(\"Enter a year to check:\"))"
   ]
  },
  {
   "cell_type": "code",
   "execution_count": 41,
   "id": "c8997ec2-9d4c-4c93-be4a-1e9f6fef1828",
   "metadata": {},
   "outputs": [],
   "source": [
    "def LeapYear(Year):\n",
    "    if(Year%400==0):\n",
    "        print(\"The given year is leap year\")\n",
    "    elif(Year%4==0):\n",
    "         print(\"The given year is leap year\")\n",
    "    elif(Year%100!=0):\n",
    "         print(\"The given year is not leap year\")"
   ]
  },
  {
   "cell_type": "code",
   "execution_count": 42,
   "id": "7cf10796-df06-4406-aaa1-a8fc3495a4fc",
   "metadata": {},
   "outputs": [
    {
     "name": "stdout",
     "output_type": "stream",
     "text": [
      "The given year is not leap year\n"
     ]
    }
   ],
   "source": [
    "LeapYear(Year)"
   ]
  },
  {
   "cell_type": "code",
   "execution_count": null,
   "id": "70afbe0a-c363-41b8-bd59-9ddd6a1f0a3e",
   "metadata": {},
   "outputs": [],
   "source": [
    "#10. A program filters out only even numbers from a given list.\n",
    "#Write logic to extract and return only the even numbers from a list."
   ]
  },
  {
   "cell_type": "code",
   "execution_count": 59,
   "id": "3a35144b-d5ff-4a99-a3a5-0965f7c03029",
   "metadata": {},
   "outputs": [],
   "source": [
    "def FindAllEven(numbers):\n",
    "    list=[]\n",
    "    for num in numbers:\n",
    "        if(num%2==0):\n",
    "            list.append(num)\n",
    "    return list"
   ]
  },
  {
   "cell_type": "code",
   "execution_count": 60,
   "id": "9a44dba0-1b12-41a6-9378-8158cada4073",
   "metadata": {},
   "outputs": [
    {
     "name": "stdout",
     "output_type": "stream",
     "text": [
      "The even numbers are: [4, 66]\n"
     ]
    }
   ],
   "source": [
    "numbers=[4,11,45,66,79]\n",
    "result = FindAllEven(numbers)\n",
    "print(\"The even numbers are:\", result)"
   ]
  },
  {
   "cell_type": "code",
   "execution_count": null,
   "id": "8285873a-3002-4d7a-a772-83b4ce320309",
   "metadata": {},
   "outputs": [],
   "source": []
  }
 ],
 "metadata": {
  "kernelspec": {
   "display_name": "Python [conda env:base] *",
   "language": "python",
   "name": "conda-base-py"
  },
  "language_info": {
   "codemirror_mode": {
    "name": "ipython",
    "version": 3
   },
   "file_extension": ".py",
   "mimetype": "text/x-python",
   "name": "python",
   "nbconvert_exporter": "python",
   "pygments_lexer": "ipython3",
   "version": "3.13.5"
  }
 },
 "nbformat": 4,
 "nbformat_minor": 5
}

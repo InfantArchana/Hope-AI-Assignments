{
 "cells": [
  {
   "cell_type": "code",
   "execution_count": 1,
   "id": "7a0f06c2-2539-4262-a8aa-d0197e897fdd",
   "metadata": {},
   "outputs": [
    {
     "name": "stdout",
     "output_type": "stream",
     "text": [
      "Welcome to Assignmnet-1\n"
     ]
    }
   ],
   "source": [
    "print(\"Welcome to Assignmnet-1\")"
   ]
  },
  {
   "cell_type": "code",
   "execution_count": 4,
   "id": "bbff9ca3-5ac8-4dd8-b58f-a4f13828e87d",
   "metadata": {},
   "outputs": [
    {
     "name": "stdout",
     "output_type": "stream",
     "text": [
      "Num1= 10\n",
      "Num2= 30\n",
      "Add= 40\n"
     ]
    }
   ],
   "source": [
    "num1=10\n",
    "print(\"Num1=\",num1)\n",
    "num2=30\n",
    "print(\"Num2=\",num2)\n",
    "add=num1+num2\n",
    "print(\"Add=\", add)"
   ]
  },
  {
   "cell_type": "code",
   "execution_count": 15,
   "id": "83151c2c-a74e-4cd1-a56d-7b78d916a2a6",
   "metadata": {},
   "outputs": [
    {
     "name": "stdin",
     "output_type": "stream",
     "text": [
      "Enter the BMI Index: 34\n"
     ]
    },
    {
     "name": "stdout",
     "output_type": "stream",
     "text": [
      "Very Overweight\n"
     ]
    }
   ],
   "source": [
    "bmi=int(input(\"Enter the BMI Index:\"))\n",
    "if(bmi<18.5):\n",
    "    print(\"Under Weight\")\n",
    "elif(bmi<25):\n",
    "    print(\"Normal Weight\")\n",
    "elif(bmi<30):\n",
    "    print(\"Over Weight\")\n",
    "elif(bmi<39):\n",
    "    print(\"Very Overweight\")\n",
    "else:\n",
    "    print(\"Extremely Overweight\")"
   ]
  },
  {
   "cell_type": "code",
   "execution_count": null,
   "id": "364be386-7531-4df5-ac64-fb1e60cf41be",
   "metadata": {},
   "outputs": [],
   "source": []
  }
 ],
 "metadata": {
  "kernelspec": {
   "display_name": "Python [conda env:base] *",
   "language": "python",
   "name": "conda-base-py"
  },
  "language_info": {
   "codemirror_mode": {
    "name": "ipython",
    "version": 3
   },
   "file_extension": ".py",
   "mimetype": "text/x-python",
   "name": "python",
   "nbconvert_exporter": "python",
   "pygments_lexer": "ipython3",
   "version": "3.13.5"
  }
 },
 "nbformat": 4,
 "nbformat_minor": 5
}

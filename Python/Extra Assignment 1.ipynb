{
 "cells": [
  {
   "cell_type": "code",
   "execution_count": null,
   "id": "79a73ce8-7e9b-42ff-9dba-78571563c14e",
   "metadata": {},
   "outputs": [],
   "source": [
    "#Print Statement"
   ]
  },
  {
   "cell_type": "code",
   "execution_count": 1,
   "id": "8f0fb09e-07a9-4424-95fc-33c8646a646c",
   "metadata": {},
   "outputs": [
    {
     "name": "stdout",
     "output_type": "stream",
     "text": [
      "HOPE AI\n"
     ]
    }
   ],
   "source": [
    "print(\"HOPE AI\")"
   ]
  },
  {
   "cell_type": "code",
   "execution_count": null,
   "id": "6163cec6-bd94-43ed-bd71-ff94b8036161",
   "metadata": {},
   "outputs": [],
   "source": [
    "#Buy input"
   ]
  },
  {
   "cell_type": "code",
   "execution_count": 7,
   "id": "f50c7186-9ec7-4e5b-9a85-de536d15a265",
   "metadata": {},
   "outputs": [
    {
     "name": "stdout",
     "output_type": "stream",
     "text": [
      "Enter your institute name? : HOPE AI\n"
     ]
    }
   ],
   "source": [
    "inst_name=\"HOPE AI\"\n",
    "print(\"Enter your institute name? :\",inst_name)"
   ]
  },
  {
   "cell_type": "code",
   "execution_count": null,
   "id": "596aeba6-6925-4d44-95d9-88937070da96",
   "metadata": {},
   "outputs": [],
   "source": [
    "#Buy input"
   ]
  },
  {
   "cell_type": "code",
   "execution_count": 12,
   "id": "8268b4df-c6d0-424d-93b8-ef3bf615dbee",
   "metadata": {},
   "outputs": [
    {
     "name": "stdout",
     "output_type": "stream",
     "text": [
      "Enter your name: Raj\n",
      "Enter your age: 15\n",
      "Enter your school name: Guru school\n",
      "Enter your degree: B.E CSE\n"
     ]
    }
   ],
   "source": [
    "name=\"Raj\"\n",
    "print(\"Enter your name:\", name)\n",
    "age=15\n",
    "print(\"Enter your age:\", age)\n",
    "Sch_name=\"Guru school\"\n",
    "print(\"Enter your school name:\", Sch_name)\n",
    "degree=\"B.E CSE\"\n",
    "print(\"Enter your degree:\", degree)"
   ]
  },
  {
   "cell_type": "code",
   "execution_count": null,
   "id": "1fd791a7-4df1-413a-a13e-e29a630ac15c",
   "metadata": {},
   "outputs": [],
   "source": [
    "#Addition"
   ]
  },
  {
   "cell_type": "code",
   "execution_count": 19,
   "id": "cbf0cbc1-2414-4045-b391-4de065ead7c8",
   "metadata": {},
   "outputs": [
    {
     "name": "stdout",
     "output_type": "stream",
     "text": [
      "a= 43\n",
      "b= 34\n",
      "add= 77\n"
     ]
    }
   ],
   "source": [
    "num1=43\n",
    "print(\"a=\",num1)\n",
    "num2=34\n",
    "print(\"b=\",num2)\n",
    "Add=num1+num2\n",
    "print(\"add=\",Add)"
   ]
  },
  {
   "cell_type": "code",
   "execution_count": null,
   "id": "d126accc-d884-4ce1-9aaf-bc0be1ba2d6a",
   "metadata": {},
   "outputs": [],
   "source": [
    "#Subtraction"
   ]
  },
  {
   "cell_type": "code",
   "execution_count": 20,
   "id": "1aad2b81-23b0-4241-a602-571f1e5df3d6",
   "metadata": {},
   "outputs": [
    {
     "name": "stdout",
     "output_type": "stream",
     "text": [
      "a= 43\n",
      "b= 34\n",
      "sub= 9\n"
     ]
    }
   ],
   "source": [
    "num1=43\n",
    "print(\"a=\",num1)\n",
    "num2=34\n",
    "print(\"b=\",num2)\n",
    "Sub=num1-num2\n",
    "print(\"sub=\",Sub)"
   ]
  },
  {
   "cell_type": "code",
   "execution_count": null,
   "id": "070d5904-721f-470e-88c9-937f656ba940",
   "metadata": {},
   "outputs": [],
   "source": [
    "#Multiplication"
   ]
  },
  {
   "cell_type": "code",
   "execution_count": 21,
   "id": "18bd3bd7-4709-40b1-a4f6-c6728fb827a3",
   "metadata": {},
   "outputs": [
    {
     "name": "stdout",
     "output_type": "stream",
     "text": [
      "a= 63\n",
      "b= 97\n",
      "Mul= 6111\n"
     ]
    }
   ],
   "source": [
    "num1=63\n",
    "print(\"a=\",num1)\n",
    "num2=97\n",
    "print(\"b=\",num2)\n",
    "mul=num1*num2\n",
    "print(\"Mul=\",mul)"
   ]
  },
  {
   "cell_type": "code",
   "execution_count": null,
   "id": "5caea607-d29f-44d9-b22a-5ccc22c09e9e",
   "metadata": {},
   "outputs": [],
   "source": [
    "#Division"
   ]
  },
  {
   "cell_type": "code",
   "execution_count": 23,
   "id": "d1834afa-4d13-4deb-82ad-258e03a20d40",
   "metadata": {},
   "outputs": [
    {
     "name": "stdout",
     "output_type": "stream",
     "text": [
      "a= 76\n",
      "b= 31\n",
      "Float Div= 2.4516129032258065\n"
     ]
    }
   ],
   "source": [
    "num1=76\n",
    "print(\"a=\",num1)\n",
    "num2=31\n",
    "print(\"b=\",num2)\n",
    "div=num1/num2\n",
    "print(\"Float Div=\",div)"
   ]
  },
  {
   "cell_type": "code",
   "execution_count": null,
   "id": "0df49549-9cad-4fc1-a2a5-d039db9e2f5e",
   "metadata": {},
   "outputs": [],
   "source": [
    "#Floor Division"
   ]
  },
  {
   "cell_type": "code",
   "execution_count": 26,
   "id": "541285f8-2626-4f05-8894-25cffcc5b3ed",
   "metadata": {},
   "outputs": [
    {
     "name": "stdout",
     "output_type": "stream",
     "text": [
      "a= 76\n",
      "b= 31\n",
      "Floor Div= 2\n"
     ]
    }
   ],
   "source": [
    "num1=76\n",
    "print(\"a=\",num1)\n",
    "num2=31\n",
    "print(\"b=\",num2)\n",
    "div=num1//num2;\n",
    "print(\"Floor Div=\",div)"
   ]
  },
  {
   "cell_type": "code",
   "execution_count": null,
   "id": "fb324c89-2301-4b01-a94b-a3f4eda133b3",
   "metadata": {},
   "outputs": [],
   "source": [
    "#Modulo"
   ]
  },
  {
   "cell_type": "code",
   "execution_count": 27,
   "id": "e03146f1-ee01-4de7-ba07-cecd24e308af",
   "metadata": {},
   "outputs": [
    {
     "name": "stdout",
     "output_type": "stream",
     "text": [
      "a= 76\n",
      "b= 31\n",
      "Modulo= 14\n"
     ]
    }
   ],
   "source": [
    "num1=76\n",
    "print(\"a=\",num1)\n",
    "num2=31\n",
    "print(\"b=\",num2)\n",
    "mod=num1%num2\n",
    "print(\"Modulo=\",mod)"
   ]
  },
  {
   "cell_type": "code",
   "execution_count": null,
   "id": "3e842b78-1c3b-420e-8bcf-8e1a79c3baf3",
   "metadata": {},
   "outputs": [],
   "source": [
    "#Exponentiation"
   ]
  },
  {
   "cell_type": "code",
   "execution_count": 28,
   "id": "bf6d6c90-32cc-45c5-9b86-89d70500e7db",
   "metadata": {},
   "outputs": [
    {
     "name": "stdout",
     "output_type": "stream",
     "text": [
      "a= 4\n",
      "b= 4\n",
      "Power= 256\n"
     ]
    }
   ],
   "source": [
    "num1=4\n",
    "print(\"a=\",num1)\n",
    "num2=4\n",
    "print(\"b=\",num2)\n",
    "pow=num1**num2\n",
    "print(\"Power=\",pow)"
   ]
  },
  {
   "cell_type": "code",
   "execution_count": null,
   "id": "4333de7d-8263-43c2-8b1e-afd1baebfae9",
   "metadata": {},
   "outputs": [],
   "source": []
  }
 ],
 "metadata": {
  "kernelspec": {
   "display_name": "Python [conda env:base] *",
   "language": "python",
   "name": "conda-base-py"
  },
  "language_info": {
   "codemirror_mode": {
    "name": "ipython",
    "version": 3
   },
   "file_extension": ".py",
   "mimetype": "text/x-python",
   "name": "python",
   "nbconvert_exporter": "python",
   "pygments_lexer": "ipython3",
   "version": "3.13.5"
  }
 },
 "nbformat": 4,
 "nbformat_minor": 5
}

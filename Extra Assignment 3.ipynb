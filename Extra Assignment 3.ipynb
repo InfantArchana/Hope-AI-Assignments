{
 "cells": [
  {
   "cell_type": "code",
   "execution_count": null,
   "id": "a81f2611-7c91-4eb7-8627-b17f8ba72a5c",
   "metadata": {},
   "outputs": [],
   "source": [
    "# print 'CORRECT' if i == 10"
   ]
  },
  {
   "cell_type": "code",
   "execution_count": 5,
   "id": "940781bb-8c01-4254-a135-5a920026f705",
   "metadata": {},
   "outputs": [
    {
     "name": "stdin",
     "output_type": "stream",
     "text": [
      "Value: 10\n"
     ]
    },
    {
     "name": "stdout",
     "output_type": "stream",
     "text": [
      "Correct\n"
     ]
    }
   ],
   "source": [
    "i=int(input(\"Value:\"))\n",
    "if(i==10):\n",
    "    print(\"Correct\")"
   ]
  },
  {
   "cell_type": "code",
   "execution_count": null,
   "id": "194336e5-77ec-419e-964f-9210d52585f8",
   "metadata": {},
   "outputs": [],
   "source": [
    "# Check the password using if and else"
   ]
  },
  {
   "cell_type": "code",
   "execution_count": 15,
   "id": "cb670c7f-0ac4-4d33-af33-016427f14526",
   "metadata": {},
   "outputs": [
    {
     "name": "stdin",
     "output_type": "stream",
     "text": [
      "Enter the Password: Hope@123\n"
     ]
    },
    {
     "name": "stdout",
     "output_type": "stream",
     "text": [
      "Your Password is correct\n"
     ]
    }
   ],
   "source": [
    "correct_password=\"Hope@123\"\n",
    "user_password=input(\"Enter the Password:\")\n",
    "if(user_password==\"Hope@123\"):\n",
    "    print(\"Your Password is correct\")\n",
    "else:\n",
    "    print(\"Your Password is incorrect\")"
   ]
  },
  {
   "cell_type": "code",
   "execution_count": null,
   "id": "30c8124b-ebdf-4e28-b8dd-4ecb3b6a69ff",
   "metadata": {},
   "outputs": [],
   "source": [
    "# Catagory the people by their age like children, adult, citizen, senior citizen\n",
    "UserInput=20"
   ]
  },
  {
   "cell_type": "code",
   "execution_count": 21,
   "id": "13b83490-91dc-4375-9fc9-7e126d802208",
   "metadata": {},
   "outputs": [
    {
     "name": "stdin",
     "output_type": "stream",
     "text": [
      "Enter your age: 20\n"
     ]
    },
    {
     "name": "stdout",
     "output_type": "stream",
     "text": [
      "Adult\n"
     ]
    }
   ],
   "source": [
    "Age=int(input(\"Enter your age:\"))\n",
    "if(Age<13):\n",
    "    print(\"Child\")\n",
    "elif(Age<18):\n",
    "    print(\"Teen\")\n",
    "elif(Age<60):\n",
    "    print(\"Adult\")\n",
    "else:\n",
    "    print(\"senior Citizen\")\n"
   ]
  },
  {
   "cell_type": "code",
   "execution_count": null,
   "id": "9f115e7a-a48e-4fbb-82da-4b54abea0b37",
   "metadata": {},
   "outputs": [],
   "source": [
    "# Find whether given number is positive or negative\n",
    "UserInput=1"
   ]
  },
  {
   "cell_type": "code",
   "execution_count": 2,
   "id": "05e8608f-b3c9-4816-a21c-9eebd93e939a",
   "metadata": {},
   "outputs": [
    {
     "name": "stdin",
     "output_type": "stream",
     "text": [
      "Enter any number: 1\n"
     ]
    },
    {
     "name": "stdout",
     "output_type": "stream",
     "text": [
      "The number is Positive\n"
     ]
    }
   ],
   "source": [
    "number=float(input(\"Enter any number:\"))\n",
    "if(number>0):\n",
    "    print(\"The number is Positive\")\n",
    "else:\n",
    "    print(\"The number is Negative\")"
   ]
  },
  {
   "cell_type": "code",
   "execution_count": null,
   "id": "2c8dfc7a-81ff-45c7-9faa-c24b0bac95f3",
   "metadata": {},
   "outputs": [],
   "source": [
    "# Check whether the given number is divisible by 5\n",
    "UserInput=22"
   ]
  },
  {
   "cell_type": "code",
   "execution_count": 12,
   "id": "d62aa367-809b-4a13-bfb9-d56207ced014",
   "metadata": {},
   "outputs": [
    {
     "name": "stdin",
     "output_type": "stream",
     "text": [
      "Enter a number: 22\n"
     ]
    },
    {
     "name": "stdout",
     "output_type": "stream",
     "text": [
      "The number is not divisible by 5.\n"
     ]
    }
   ],
   "source": [
    "number=int(input(\"Enter a number:\"))\n",
    "if(number%5==0):\n",
    "    print(\"The number is divisible by 5.\")\n",
    "else:\n",
    "    print(\"The number is not divisible by 5.\")"
   ]
  },
  {
   "cell_type": "code",
   "execution_count": null,
   "id": "3822b0de-faf7-4bef-a49e-4b38f29c0ad5",
   "metadata": {},
   "outputs": [],
   "source": []
  }
 ],
 "metadata": {
  "kernelspec": {
   "display_name": "Python [conda env:base] *",
   "language": "python",
   "name": "conda-base-py"
  },
  "language_info": {
   "codemirror_mode": {
    "name": "ipython",
    "version": 3
   },
   "file_extension": ".py",
   "mimetype": "text/x-python",
   "name": "python",
   "nbconvert_exporter": "python",
   "pygments_lexer": "ipython3",
   "version": "3.13.5"
  }
 },
 "nbformat": 4,
 "nbformat_minor": 5
}
